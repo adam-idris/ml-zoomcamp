{
 "cells": [
  {
   "cell_type": "markdown",
   "metadata": {},
   "source": [
    "## Homework 2 "
   ]
  },
  {
   "cell_type": "code",
   "execution_count": 404,
   "metadata": {},
   "outputs": [
    {
     "data": {
      "text/plain": [
       "<Axes: xlabel='final_price', ylabel='Count'>"
      ]
     },
     "execution_count": 404,
     "metadata": {},
     "output_type": "execute_result"
    },
    {
     "data": {
      "image/png": "[encoded data removed]",
      "text/plain": [
       "<Figure size 640x480 with 1 Axes>"
      ]
     },
     "metadata": {},
     "output_type": "display_data"
    }
   ],
   "source": [
    "import pandas as pd\n",
    "import numpy as np\n",
    "import seaborn as sns\n",
    "\n",
    "df = pd.read_csv('laptops.csv')\n",
    "\n",
    "# Normalise the column names\n",
    "df.columns = df.columns.str.lower().str.replace(' ', '_')\n",
    "\n",
    "# Chosen columns\n",
    "columns = ['ram', 'storage', 'screen', 'final_price']\n",
    "\n",
    "# Subset the dataframe with chosen columns \n",
    "df = df[columns]\n",
    "\n",
    "sns.histplot(df['final_price'])"
   ]
  },
  {
   "cell_type": "markdown",
   "metadata": {},
   "source": [
    "### Question 1"
   ]
  },
  {
   "cell_type": "code",
   "execution_count": 392,
   "metadata": {},
   "outputs": [
    {
     "name": "stdout",
     "output_type": "stream",
     "text": [
      "The only column with missing data is: screen\n"
     ]
    }
   ],
   "source": [
    "# Find the only column with missing data\n",
    "missing_col = df.isna().sum().idxmax()\n",
    "\n",
    "print(f'The only column with missing data is: {missing_col}')\n"
   ]
  },
  {
   "cell_type": "markdown",
   "metadata": {},
   "source": [
    "### Question 2"
   ]
  },
  {
   "cell_type": "code",
   "execution_count": 393,
   "metadata": {},
   "outputs": [
    {
     "name": "stdout",
     "output_type": "stream",
     "text": [
      "The median RAM is 16GB\n"
     ]
    }
   ],
   "source": [
    "median_ram = df.ram.median()\n",
    "print(f'The median RAM is {int(median_ram)}GB')"
   ]
  },
  {
   "cell_type": "code",
   "execution_count": 416,
   "metadata": {},
   "outputs": [
    {
     "data": {
      "text/plain": [
       "669.7029304765148"
      ]
     },
     "execution_count": 416,
     "metadata": {},
     "output_type": "execute_result"
    }
   ],
   "source": [
    "def prepare_data(df, seed=42):\n",
    "    n = len(df)\n",
    "    idx = np.arange(n)\n",
    "    np.random.seed(seed)\n",
    "    np.random.shuffle(idx)\n",
    "\n",
    "    df = df.iloc[idx]\n",
    "    df = df.fillna(0)\n",
    "\n",
    "    n_train = int(n*0.2)\n",
    "    n_val = int(n*0.2)\n",
    "    n_test = n - (n_train + n_val)\n",
    "\n",
    "    df_train = df.iloc[:n_train]\n",
    "    df_val = df.iloc[n_train:n_train + n_val]\n",
    "    df_test = df.iloc[n_train+n_val:]\n",
    "\n",
    "    y_train = df_train['final_price'].values\n",
    "    y_val = df_val['final_price'].values\n",
    "    y_test = df_test['final_price'].values\n",
    "\n",
    "    df_train = df_train.drop(columns=['final_price'])\n",
    "    df_val = df_val.drop(columns=['final_price'])\n",
    "    df_test = df_test.drop(columns=['final_price'])\n",
    "\n",
    "    X_train = df_train.values\n",
    "    X_val = df_val.values\n",
    "    X_test = df_test.values\n",
    "    \n",
    "    return X_train, X_val, X_test, y_train, y_val, y_test\n",
    "\n",
    "X_train, X_val, X_test, y_train, y_val, y_test = prepare_data(df)\n",
    "\n",
    "def train_linear_regression(X, y):\n",
    "    ones = np.ones(X.shape[0]) \n",
    "    X = np.column_stack([ones, X])\n",
    "    \n",
    "    XTX = X.T.dot(X) \n",
    "    XTX_inv = np.linalg.inv(XTX)\n",
    "    XTY = X.T.dot(y)\n",
    "    w_full = XTX_inv.dot(XTY)\n",
    "    \n",
    "    w0 = w_full[0]\n",
    "    w = w_full[1:]\n",
    "    \n",
    "    return w0, w\n",
    "\n",
    "w0, w = train_linear_regression(X_train, y_train)\n",
    "\n",
    "y_pred = X_val.dot(w) + w0\n",
    "\n",
    "def rmse(y, y_pred):\n",
    "    rmse = np.sqrt((sum((y_pred - y) ** 2)) / len(y))\n",
    "    \n",
    "    return rmse\n",
    "\n",
    "score = rmse(y_val, y_pred)\n",
    "score"
   ]
  },
  {
   "cell_type": "markdown",
   "metadata": {},
   "source": [
    "### Question 3"
   ]
  },
  {
   "cell_type": "code",
   "execution_count": 395,
   "metadata": {},
   "outputs": [],
   "source": [
    "df_train_0 = df_train.fillna(0)\n",
    "df_val_0 = df_val.fillna(0)\n",
    "\n",
    "y_train = df_train_0['final_price'].values\n",
    "y_val = df_val_0['final_price'].values\n",
    "\n",
    "del df_train_0['final_price']\n",
    "del df_val_0['final_price']\n",
    "\n",
    "X_train = df_train_0.values\n",
    "X_val = df_val_0.values\n",
    "\n",
    "def train_linear_regression(X, y):\n",
    "    \n",
    "    ones = np.ones(X.shape[0])\n",
    "    X = np.column_stack([ones, X])\n",
    "    \n",
    "    XTX = X.T.dot(X)\n",
    "    XTX_inv = np.linalg.inv(XTX)\n",
    "    XTY = X.T.dot(y)\n",
    "    w_full = XTX_inv.dot(XTY)\n",
    "    \n",
    "    w0 = w_full[0]\n",
    "    w = w_full[1:]\n",
    "    \n",
    "    return w0, w\n",
    "\n",
    "w0, w = train_linear_regression(X_train, y_train)\n",
    "\n",
    "y_pred = X_val.dot(w) + w0"
   ]
  },
  {
   "cell_type": "code",
   "execution_count": 396,
   "metadata": {},
   "outputs": [
    {
     "data": {
      "text/plain": [
       "669.7"
      ]
     },
     "execution_count": 396,
     "metadata": {},
     "output_type": "execute_result"
    }
   ],
   "source": [
    "def rmse(y, y_pred):\n",
    "    rmse = np.sqrt((sum((y_pred - y) ** 2)) / len(y))\n",
    "    \n",
    "    return rmse\n",
    "\n",
    "round((rmse(y_val, y_pred)), 2)"
   ]
  },
  {
   "cell_type": "code",
   "execution_count": 397,
   "metadata": {},
   "outputs": [],
   "source": [
    "mean_screen = df_train.screen.mean()\n",
    "\n",
    "df_train_mean = df_train.fillna(mean_screen)\n",
    "df_val_mean = df_val.fillna(mean_screen)\n",
    "\n",
    "y_train = df_train_mean['final_price'].values\n",
    "y_val = df_val_mean['final_price'].values\n",
    "\n",
    "del df_train_mean['final_price']\n",
    "del df_val_mean['final_price']\n",
    "\n",
    "X_train = df_train_mean.values\n",
    "X_val = df_val_mean.values\n",
    "\n",
    "def train_linear_regression(X, y):\n",
    "    \n",
    "    ones = np.ones(X.shape[0])\n",
    "    X = np.column_stack([ones, X])\n",
    "    \n",
    "    XTX = X.T.dot(X)\n",
    "    XTX_inv = np.linalg.inv(XTX)\n",
    "    XTY = X.T.dot(y)\n",
    "    w_full = XTX_inv.dot(XTY)\n",
    "    \n",
    "    w0 = w_full[0]\n",
    "    w = w_full[1:]\n",
    "    \n",
    "    return w0, w\n",
    "\n",
    "w0, w = train_linear_regression(X_train, y_train)\n",
    "\n",
    "y_pred = X_val.dot(w) + w0"
   ]
  },
  {
   "cell_type": "code",
   "execution_count": 398,
   "metadata": {},
   "outputs": [
    {
     "data": {
      "text/plain": [
       "669.68"
      ]
     },
     "execution_count": 398,
     "metadata": {},
     "output_type": "execute_result"
    }
   ],
   "source": [
    "round((rmse(y_val, y_pred)), 2)"
   ]
  },
  {
   "cell_type": "code",
   "execution_count": 399,
   "metadata": {},
   "outputs": [
    {
     "name": "stdout",
     "output_type": "stream",
     "text": [
      "0 669.7\n",
      "0.01 669.7\n",
      "0.1 669.71\n",
      "1 669.79\n",
      "5 670.29\n",
      "10 670.64\n",
      "100 671.43\n"
     ]
    }
   ],
   "source": [
    "df_train_0 = df_train.fillna(0)\n",
    "df_val_0 = df_val.fillna(0)\n",
    "\n",
    "y_train = df_train_0['final_price'].values\n",
    "y_val = df_val_0['final_price'].values\n",
    "\n",
    "del df_train_0['final_price']\n",
    "del df_val_0['final_price']\n",
    "\n",
    "X_train = df_train_0.values\n",
    "X_val = df_val_0.values\n",
    "\n",
    "def train_linear_regression_reg(X, y, r=0.001):\n",
    "    \n",
    "    ones = np.ones(X.shape[0])\n",
    "    X = np.column_stack([ones, X])\n",
    "    \n",
    "    XTX = X.T.dot(X)\n",
    "    XTX = XTX + r * np.eye(XTX.shape[0])\n",
    "    XTX_inv = np.linalg.inv(XTX)\n",
    "    XTY = X.T.dot(y)\n",
    "    w_full = XTX_inv.dot(XTY)\n",
    "    \n",
    "    w0 = w_full[0]\n",
    "    w = w_full[1:]\n",
    "    \n",
    "    return w0, w\n",
    "\n",
    "\n",
    "for r in [0, 0.01, 0.1, 1, 5, 10, 100]:\n",
    "    w0, w = train_linear_regression_reg(X_train, y_train, r=r)\n",
    "    y_pred = X_val.dot(w) + w0\n",
    "    print(r, round(rmse(y_val, y_pred), 2))\n"
   ]
  },
  {
   "cell_type": "code",
   "execution_count": 403,
   "metadata": {},
   "outputs": [
    {
     "name": "stdout",
     "output_type": "stream",
     "text": [
      "Random seed 0: 562.06\n",
      "Random seed 1: 642.8\n",
      "Random seed 2: 570.88\n",
      "Random seed 3: 547.54\n",
      "Random seed 4: 630.01\n",
      "Random seed 5: 565.05\n",
      "Random seed 6: 586.49\n",
      "Random seed 7: 647.8\n",
      "Random seed 8: 637.54\n",
      "Random seed 9: 673.83\n",
      "42.321735314138536\n"
     ]
    }
   ],
   "source": [
    "df = pd.read_csv('laptops.csv')\n",
    "\n",
    "# Normalise the column names\n",
    "df.columns = df.columns.str.lower().str.replace(' ', '_')\n",
    "\n",
    "# Chosen columns\n",
    "columns = ['ram', 'storage', 'screen', 'final_price']\n",
    "\n",
    "# Subset the dataframe with chosen columns \n",
    "df = df[columns]\n",
    "\n",
    "# Fill missing values in the original dataframe\n",
    "df = df.fillna(0)\n",
    "\n",
    "def check_random_seed(df):\n",
    "    \n",
    "    original_df = df.copy()\n",
    "    total = []\n",
    "\n",
    "    for i in range(10):\n",
    "        \n",
    "        df = original_df.copy()\n",
    "        \n",
    "        n = len(df)\n",
    "        idx = np.arange(n)\n",
    "        np.random.seed(i)\n",
    "        np.random.shuffle(idx)\n",
    "        \n",
    "        df = df.iloc[idx]\n",
    "\n",
    "        n_train = int(n*0.2)\n",
    "        n_val = int(n*0.2)\n",
    "        n_test = n - (n_train + n_val)\n",
    "\n",
    "        df_train = df.iloc[:n_train]\n",
    "        df_val = df.iloc[n_train:n_train + n_val]\n",
    "        df_test = df.iloc[n_train+n_val:]\n",
    "\n",
    "        df_train_ = df_train.fillna(0)\n",
    "        df_val = df_val.fillna(0)\n",
    "\n",
    "        y_train = df_train_['final_price'].values\n",
    "        y_val = df_val['final_price'].values\n",
    "\n",
    "        df_train_ = df_train_.drop(columns=['final_price'])\n",
    "        df_val = df_val.drop(columns=['final_price'])\n",
    "\n",
    "        X_train = df_train_.values\n",
    "        X_val = df_val.values\n",
    "        \n",
    "        w0, w = train_linear_regression(X_train, y_train)\n",
    "\n",
    "        y_pred = X_val.dot(w) + w0\n",
    "        \n",
    "        score = round((rmse(y_val, y_pred)), 2)\n",
    "        \n",
    "        print(f'Random seed {i}: {score}')\n",
    "        \n",
    "        total.append(score)\n",
    "        \n",
    "    print(np.std(total))\n",
    "    \n",
    "check_random_seed(df)"
   ]
  },
  {
   "cell_type": "code",
   "execution_count": null,
   "metadata": {},
   "outputs": [],
   "source": []
  }
 ],
 "metadata": {
  "kernelspec": {
   "display_name": "data-science",
   "language": "python",
   "name": "python3"
  },
  "language_info": {
   "codemirror_mode": {
    "name": "ipython",
    "version": 3
   },
   "file_extension": ".py",
   "mimetype": "text/x-python",
   "name": "python",
   "nbconvert_exporter": "python",
   "pygments_lexer": "ipython3",
   "version": "3.10.13"
  }
 },
 "nbformat": 4,
 "nbformat_minor": 2
}
